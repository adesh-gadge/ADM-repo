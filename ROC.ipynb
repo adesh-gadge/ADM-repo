{
 "cells": [
  {
   "cell_type": "code",
   "execution_count": 180,
   "metadata": {},
   "outputs": [],
   "source": [
    "import numpy as np\n",
    "import pandas as pd"
   ]
  },
  {
   "cell_type": "code",
   "execution_count": 166,
   "metadata": {},
   "outputs": [],
   "source": [
    "x=np.array([[ 1, 0.73, 0.61],\n",
    " [1 ,0.69 ,0.03],\n",
    " [0 , 0.44 ,0.68],\n",
    " [0 ,0.55 ,0.31],\n",
    " [1 ,0.67 ,0.45],\n",
    " [1 ,0.47 ,0.09],\n",
    " [0 ,0.08 ,0.38],\n",
    " [0 ,0.15 ,0.05],\n",
    " [1 ,0.45 ,0.01],\n",
    " [0 ,0.35 ,0.04]])\n",
    "x_=pd.DataFrame(x)"
   ]
  },
  {
   "cell_type": "code",
   "execution_count": 181,
   "metadata": {},
   "outputs": [],
   "source": [
    "class CM:\n",
    "    TP=0\n",
    "    TN=0\n",
    "    FP=0\n",
    "    FN=0\n",
    "    def TPR(self):\n",
    "        return self.TP/(self.TP+self.FN)\n",
    "    \n",
    "    def FPR(self):\n",
    "        return self.FP/(self.TN+self.FP)"
   ]
  },
  {
   "cell_type": "code",
   "execution_count": 182,
   "metadata": {},
   "outputs": [],
   "source": [
    "c1_TPR=[]\n",
    "c1_FPR=[]\n",
    "c2_TPR=[]\n",
    "c2_FPR=[]\n",
    "cm=CM()\n",
    "for k in range(1,3):\n",
    "    del cm  \n",
    "    for i in range(10,-1,-1):\n",
    "        cm = CM()\n",
    "        thresh = i/10\n",
    "        for j in range(0,10):\n",
    "            #print(i)\n",
    "            if(x_.iloc[j,0]==1): \n",
    "                if(x_.iloc[j,k]>=thresh):\n",
    "                    cm.TP=cm.TP+1\n",
    "                else:\n",
    "                    cm.FN=cm.FN+1\n",
    "            else:\n",
    "                if((x_.iloc[j,k])>=thresh):\n",
    "                    cm.FP=cm.FP+1\n",
    "                else:\n",
    "                    cm.TN=cm.TN+1\n",
    "        if(k==1):\n",
    "            c1_TPR.append(cm.TPR())\n",
    "            c1_FPR.append(cm.FPR()) \n",
    "            \n",
    "        if(k==2):    \n",
    "            c2_TPR.append(cm.TPR())\n",
    "            c2_FPR.append(cm.FPR())   \n",
    "            \n",
    "                "
   ]
  },
  {
   "cell_type": "code",
   "execution_count": 183,
   "metadata": {},
   "outputs": [],
   "source": [
    "import matplotlib.pyplot as plt"
   ]
  },
  {
   "cell_type": "code",
   "execution_count": 184,
   "metadata": {},
   "outputs": [
    {
     "data": {
      "text/plain": [
       "<matplotlib.legend.Legend at 0x228b902d7f0>"
      ]
     },
     "execution_count": 184,
     "metadata": {},
     "output_type": "execute_result"
    },
    {
     "data": {
      "image/png": "[encoded data removed]",
      "text/plain": [
       "<Figure size 432x288 with 1 Axes>"
      ]
     },
     "metadata": {
      "needs_background": "light"
     },
     "output_type": "display_data"
    }
   ],
   "source": [
    "fig=plt.figure()\n",
    "ax = fig.add_subplot(111)\n",
    "ax.set_xlabel('FPR')\n",
    "ax.set_ylabel('TPR')\n",
    "plt.step(c1_FPR,c1_TPR,color='r',label=\"Classifier 1\")\n",
    "plt.step(c2_FPR,c2_TPR,color='b',label=\"Classifier 2\")\n",
    "plt.legend()"
   ]
  }
 ],
 "metadata": {
  "kernelspec": {
   "display_name": "Python 3",
   "language": "python",
   "name": "python3"
  },
  "language_info": {
   "codemirror_mode": {
    "name": "ipython",
    "version": 3
   },
   "file_extension": ".py",
   "mimetype": "text/x-python",
   "name": "python",
   "nbconvert_exporter": "python",
   "pygments_lexer": "ipython3",
   "version": "3.7.1"
  }
 },
 "nbformat": 4,
 "nbformat_minor": 2
}
